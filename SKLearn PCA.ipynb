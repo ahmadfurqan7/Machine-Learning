{
  "nbformat": 4,
  "nbformat_minor": 0,
  "metadata": {
    "colab": {
      "provenance": []
    },
    "kernelspec": {
      "name": "python3",
      "display_name": "Python 3"
    },
    "language_info": {
      "name": "python"
    }
  },
  "cells": [
    {
      "cell_type": "markdown",
      "source": [
        "#SKLearn PCA"
      ],
      "metadata": {
        "id": "5LDSNfoy-lwq"
      }
    },
    {
      "cell_type": "markdown",
      "source": [
        "Tahapan pada latihan ini sebagai berikut:\n",
        "\n",
        "* Bagi dataset.\n",
        "* Latih model tanpa PCA.\n",
        "* Latih model dengan PCA.\n",
        "* Evaluasi hasil kedua model.\n"
      ],
      "metadata": {
        "id": "FuInLm87-sQf"
      }
    },
    {
      "cell_type": "markdown",
      "source": [
        "kita masukkan dataset iris dan bagi data menjadi train set dan test set."
      ],
      "metadata": {
        "id": "IeVJMdVm-0MM"
      }
    },
    {
      "cell_type": "code",
      "source": [
        "from sklearn import datasets\n",
        "from sklearn.model_selection import train_test_split\n",
        "\n",
        "iris = datasets.load_iris()\n",
        "atribut = iris.data\n",
        "label = iris.target\n",
        "\n",
        "# bagi dataset menjadi train set dan test set\n",
        "X_train, X_test, y_train, y_test = train_test_split(\n",
        "    atribut, label, test_size=0.2, random_state=1)"
      ],
      "metadata": {
        "id": "_QnTb2pk-ldr"
      },
      "execution_count": 1,
      "outputs": []
    },
    {
      "cell_type": "markdown",
      "source": [
        "Kita akan menggunakan model Decision Tree dan menghitung berapa akurasinya tanpa menggunakan PCA"
      ],
      "metadata": {
        "id": "EO5lhdqn_C7s"
      }
    },
    {
      "cell_type": "code",
      "execution_count": 2,
      "metadata": {
        "colab": {
          "base_uri": "https://localhost:8080/"
        },
        "id": "9NGbXKfrzZWn",
        "outputId": "e7933c09-dbb6-463d-8f99-6742d1094fe7"
      },
      "outputs": [
        {
          "output_type": "execute_result",
          "data": {
            "text/plain": [
              "0.9666666666666667"
            ]
          },
          "metadata": {},
          "execution_count": 2
        }
      ],
      "source": [
        "from sklearn import tree\n",
        "\n",
        "decision_tree = tree.DecisionTreeClassifier()\n",
        "model_pertama = decision_tree.fit(X_train, y_train)\n",
        "model_pertama.score(X_test, y_test)"
      ]
    },
    {
      "cell_type": "markdown",
      "source": [
        "Akurasi tanpa PCA adalah 0.9666."
      ],
      "metadata": {
        "id": "yVP8JqUg_GWv"
      }
    },
    {
      "cell_type": "markdown",
      "source": [
        "Kemudian kita akan menggunakan PCA dan menghitung variance dari setiap atribut."
      ],
      "metadata": {
        "id": "9jadA1hg_PVS"
      }
    },
    {
      "cell_type": "code",
      "source": [
        "from sklearn.decomposition import PCA\n",
        "\n",
        "# membuat objek PCA dengan 4 principal component\n",
        "pca = PCA(n_components=4)\n",
        "\n",
        "# mengaplikasikan PCA pada dataset\n",
        "pca_attributes = pca.fit_transform(X_train)\n",
        "\n",
        "# melihat variance dari setiap atribut\n",
        "pca.explained_variance_ratio_"
      ],
      "metadata": {
        "colab": {
          "base_uri": "https://localhost:8080/"
        },
        "id": "a5yVyVu0_Fdc",
        "outputId": "c88600cf-a5b7-4f60-df84-f3b9dd084763"
      },
      "execution_count": 3,
      "outputs": [
        {
          "output_type": "execute_result",
          "data": {
            "text/plain": [
              "array([0.92848323, 0.04764372, 0.01931005, 0.004563  ])"
            ]
          },
          "metadata": {},
          "execution_count": 3
        }
      ]
    },
    {
      "cell_type": "markdown",
      "source": [
        "Hasilnya adalah 1 atribut memiliki variance sebesar 0.922, yang berarti atribut tersebut menyimpan informasi yang tinggi dan jauh lebih signifikan dari atribut lain."
      ],
      "metadata": {
        "id": "IZbiW22M_YVU"
      }
    },
    {
      "cell_type": "markdown",
      "source": [
        "Melihat dari variance sebelumnya kita bisa mengambil 2 principal component terbaik karena total variance nya adalah 0.976 yang sudah cukup tinggi."
      ],
      "metadata": {
        "id": "etpwu8q7_fmo"
      }
    },
    {
      "cell_type": "code",
      "source": [
        "# PCA dengan 2 principal component\n",
        "pca = PCA(n_components = 2)\n",
        "X_train_pca = pca.fit_transform(X_train)\n",
        "X_test_pca = pca.fit_transform(X_test)"
      ],
      "metadata": {
        "id": "OYfMYu4i_V77"
      },
      "execution_count": 4,
      "outputs": []
    },
    {
      "cell_type": "markdown",
      "source": [
        "Kita akan menguji akurasi dari classifier setelah menggunakan PCA."
      ],
      "metadata": {
        "id": "lW_t-0Eb_pbb"
      }
    },
    {
      "cell_type": "code",
      "source": [
        "# uji akurasi classifier\n",
        "model2 = decision_tree.fit(X_train_pca, y_train)\n",
        "model2.score(X_test_pca, y_test)"
      ],
      "metadata": {
        "colab": {
          "base_uri": "https://localhost:8080/"
        },
        "id": "T4F0UBtY_koj",
        "outputId": "4bcd66b8-7476-4bb4-a70c-f81d8d15eddd"
      },
      "execution_count": 5,
      "outputs": [
        {
          "output_type": "execute_result",
          "data": {
            "text/plain": [
              "0.9333333333333333"
            ]
          },
          "metadata": {},
          "execution_count": 5
        }
      ]
    },
    {
      "cell_type": "markdown",
      "source": [
        "Dari percobaan di atas bisa kita lihat bahwa dengan hanya 2 principal component atau 2 atribut saja model masih memiliki akurasi yang tinggi. Dengan principal component kamu bisa mengurangi atribut yang kurang signifikan dalam prediksi dan mempercepat waktu pelatihan sebuah model machine learning."
      ],
      "metadata": {
        "id": "sLDrXWox_yUH"
      }
    },
    {
      "cell_type": "code",
      "source": [],
      "metadata": {
        "id": "BJnnrBcM_y2L"
      },
      "execution_count": null,
      "outputs": []
    }
  ]
}